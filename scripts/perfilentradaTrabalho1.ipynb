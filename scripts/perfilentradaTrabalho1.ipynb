{
 "cells": [
  {
   "cell_type": "markdown",
   "metadata": {},
   "source": [
    "# Perfil - Entrada de um Sistema de Medição - Trabalho 1"
   ]
  },
  {
   "cell_type": "code",
   "execution_count": 1,
   "metadata": {},
   "outputs": [
    {
     "data": {
      "image/png": "[encoded data removed]",
      "text/plain": [
       "<Figure size 432x288 with 1 Axes>"
      ]
     },
     "metadata": {
      "needs_background": "light"
     },
     "output_type": "display_data"
    }
   ],
   "source": [
    "import numpy as np\n",
    "import matplotlib.pyplot as plt\n",
    "\n",
    "x1 = 30*np.ones(100,)\n",
    "x2 = 35*np.ones(100,)\n",
    "x3 = 45*np.ones(100,)\n",
    "x4 = 30*np.ones(100,)\n",
    "x = np.concatenate((x1,x2, x3, x4))\n",
    "t = np.linspace(0,400,400)\n",
    "\n",
    "plt.plot(t,x)\n",
    "plt.ylabel('Entrada aplicada (x(t))')\n",
    "plt.axvline(0, 0, 0.6)\n",
    "plt.xlabel('Tempo')\n",
    "plt.grid(True)\n",
    "plt.ylim(0, 50)\n",
    "plt.show()"
   ]
  }
 ],
 "metadata": {
  "kernelspec": {
   "display_name": "Python 3 (ipykernel)",
   "language": "python",
   "name": "python3"
  },
  "language_info": {
   "codemirror_mode": {
    "name": "ipython",
    "version": 3
   },
   "file_extension": ".py",
   "mimetype": "text/x-python",
   "name": "python",
   "nbconvert_exporter": "python",
   "pygments_lexer": "ipython3",
   "version": "3.9.7"
  }
 },
 "nbformat": 4,
 "nbformat_minor": 4
}

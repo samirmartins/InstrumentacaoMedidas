{
 "cells": [
  {
   "cell_type": "markdown",
   "source": [
    "# Exemplo de utilização de Filtro FIR"
   ],
   "metadata": {
    "collapsed": false
   }
  },
  {
   "cell_type": "code",
   "execution_count": null,
   "outputs": [],
   "source": [
    "import numpy as np\n",
    "from scipy import signal, fftpack\n",
    "import matplotlib.pyplot as plt\n",
    "\n",
    "# Definir frequência de amostragem e duração do sinal\n",
    "fs = 10000\n",
    "duration = 1\n",
    "\n",
    "# Definir frequências das senoides\n",
    "freq1 = 50\n",
    "freq2 = 120\n",
    "\n",
    "# Criar sinal de duas senoides\n",
    "t = np.arange(0, duration, 1/fs)\n",
    "signal_input = np.sin(2*np.pi*freq1*t) + np.sin(2*np.pi*freq2*t)\n",
    "\n",
    "# Calcular transformada de Fourier do sinal de entrada\n",
    "fft_input = fftpack.fft(signal_input)\n",
    "freqs = fftpack.fftfreq(len(signal_input)) * fs\n",
    "\n",
    "# Criar filtro FIR passa faixa para manter componente de 120Hz\n",
    "nyq = 0.5 * fs\n",
    "low = 110 / nyq\n",
    "high = 130 / nyq\n",
    "numtaps = 1000\n",
    "h = signal.firwin(numtaps, [low, high], pass_zero=False)\n",
    "\n",
    "# Aplicar filtro ao sinal de entrada\n",
    "signal_output = signal.lfilter(h, 1, signal_input)\n",
    "\n",
    "# Calcular transformada de Fourier do sinal de saída\n",
    "fft_output = fftpack.fft(signal_output)\n",
    "\n",
    "# Plotar o sinal de entrada e saída, juntamente com suas transformadas de Fourier\n",
    "fig, ax = plt.subplots(2, 2, figsize=(12, 8))\n",
    "\n",
    "ax[0, 0].plot(t, signal_input, label='Sinal de entrada')\n",
    "ax[0, 0].set_xlabel('Tempo (s)')\n",
    "ax[0, 0].set_ylabel('Amplitude')\n",
    "\n",
    "ax[0, 1].plot(freqs[freqs>0], np.abs(fft_input)[np.where(freqs>0)], label='Transformada de Fourier')\n",
    "ax[0, 1].set_xlabel('Frequência (Hz)')\n",
    "ax[0, 1].set_ylabel('Amplitude')\n",
    "ax[0, 1].set_xlim(0, 200)\n",
    "\n",
    "ax[1, 0].plot(t, signal_output, label='Sinal de saída')\n",
    "ax[1, 0].set_xlabel('Tempo (s)')\n",
    "ax[1, 0].set_ylabel('Amplitude')\n",
    "\n",
    "ax[1, 1].plot(freqs[freqs>0], np.abs(fft_output)[np.where(freqs>0)], label='Transformada de Fourier')\n",
    "ax[1, 1].set_xlabel('Frequência (Hz)')\n",
    "ax[1, 1].set_ylabel('Amplitude')\n",
    "ax[1, 1].set_xlim(0, 200)\n",
    "\n",
    "plt.tight_layout()\n",
    "plt.show()\n"
   ],
   "metadata": {
    "collapsed": false,
    "ExecuteTime": {
     "start_time": "2023-04-28T11:42:15.530153Z",
     "end_time": "2023-04-28T11:42:15.872704Z"
    },
    "pycharm": {
     "is_executing": true
    }
   }
  }
 ],
 "metadata": {
  "kernelspec": {
   "display_name": "Python 3",
   "language": "python",
   "name": "python3"
  },
  "language_info": {
   "codemirror_mode": {
    "name": "ipython",
    "version": 2
   },
   "file_extension": ".py",
   "mimetype": "text/x-python",
   "name": "python",
   "nbconvert_exporter": "python",
   "pygments_lexer": "ipython2",
   "version": "2.7.6"
  }
 },
 "nbformat": 4,
 "nbformat_minor": 0
}

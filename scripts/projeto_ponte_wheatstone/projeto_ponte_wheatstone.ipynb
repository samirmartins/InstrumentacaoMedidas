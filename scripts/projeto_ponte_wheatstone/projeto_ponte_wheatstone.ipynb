{
 "cells": [
  {
   "cell_type": "markdown",
   "id": "39920ae1",
   "metadata": {},
   "source": [
    "---\n",
    "# Projeto de uma ponte de Wheatstone\n",
    "---\n",
    "## Requisitos\n",
    "### P < 1/4W (em todos os resistores, em todas as situações)\n",
    "### 0V < Vout < 5V\n",
    "### 1kOhm < Rsensor < 2kOhm\n",
    "---"
   ]
  },
  {
   "cell_type": "code",
   "execution_count": 2,
   "id": "0fdfba48",
   "metadata": {},
   "outputs": [
    {
     "name": "stdout",
     "output_type": "stream",
     "text": [
      "1. Condição de equilíbrio satisfeita\n",
      "\n",
      "2. Tensão de alimentação projetada \n",
      "V_in = 30.0V\n",
      "P_R1: 0.1 W\n",
      "P_R2: 0.2 W\n",
      "P_R3: 0.2 W\n",
      "P_Rsensor1: 0.2 W\n",
      "P_Rsensor2: 0.1 W\n",
      "P_max: 0.25 W\n"
     ]
    }
   ],
   "source": [
    "# Definindo valores de resistência (considerando R1 e R2 em um ramo da ponte, R3 e R_sensor no outro ramo da ponte)\n",
    "R1 = 1_000\n",
    "R2 = 2_000\n",
    "R3 = 2_000\n",
    "R_sensor = 2_000\n",
    "P_max = 1/4 # Potencia maxima\n",
    "\n",
    "# Verificando se a condição de equilíbrio é satisfeita\n",
    "if R1*R3 == R2*1000: \n",
    "    print('1. Condição de equilíbrio satisfeita')\n",
    "\n",
    "    # Expressão que relaciona a tensão de saída da ponte com os resistores\n",
    "    # V_out =  V_in*((R_sensor)/(R_sensor + R3) - (R1)/(R1+R2))\n",
    "\n",
    "    # Cômputo da tensão de entrada, e verificação do limite de potência, para o limite superior de tensão (5V)\n",
    "    V_out = 5\n",
    "    V_in = V_out/((R_sensor)/(R_sensor + R3) - (R1)/(R1+R2))\n",
    "\n",
    "    # Calculando a corrente que circula em cada ramo\n",
    "    i_1 = V_in/(R1+R2)\n",
    "    i_2 = V_in/(R3+R_sensor)\n",
    "\n",
    "    # Computando potências em cada resistor\n",
    "    P1 = R1*i_1**2\n",
    "    P2 = R2*i_1**2\n",
    "    P3 = R3*i_1**2\n",
    "    P_sensor1 = R_sensor*i_1**2\n",
    "    P_sensor2 = 1000*(V_in/(R3+1000))**2\n",
    "       \n",
    "    if P1 > P_max or P2 > P_max or P3 > P_max or P_sensor1 > P_max or P_sensor2 > P_max:\n",
    "        print('\\n2. Limite máximo de potência NÃO foi atendido!')\n",
    "        print(f'P_R1: {round(P1,2)} W')\n",
    "        print(f'P_R2: {round(P2,2)} W')\n",
    "        print(f'P_R3: {round(P3,2)} W')\n",
    "        print(f'P_Rsensor1: {round(P_sensor1,2)} W')\n",
    "        print(f'P_Rsensor2: {round(P_sensor2,2)} W')\n",
    "        print(f'P_max: {round(P_max,2)} W')\n",
    "        \n",
    "    elif P1 < P_max and P2 < P_max and P3 < P_max and P_sensor1 < P_max and P_sensor2 < P_max:\n",
    "        print(f'\\n2. Tensão de alimentação projetada \\nV_in = {round(V_in,2)}V')\n",
    "        print(f'P_R1: {round(P1,2)} W')\n",
    "        print(f'P_R2: {round(P2,2)} W')\n",
    "        print(f'P_R3: {round(P3,2)} W')\n",
    "        print(f'P_Rsensor1: {round(P_sensor1,2)} W')\n",
    "        print(f'P_Rsensor2: {round(P_sensor2,2)} W')\n",
    "        print(f'P_max: {round(P_max,2)} W')\n",
    "\n",
    "\n",
    "else: \n",
    "    print('Condição de equilíbrio não foi satisfeita! Reveja os valores de resistência')"
   ]
  }
 ],
 "metadata": {
  "kernelspec": {
   "display_name": "Python 3 (ipykernel)",
   "language": "python",
   "name": "python3"
  },
  "language_info": {
   "codemirror_mode": {
    "name": "ipython",
    "version": 3
   },
   "file_extension": ".py",
   "mimetype": "text/x-python",
   "name": "python",
   "nbconvert_exporter": "python",
   "pygments_lexer": "ipython3",
   "version": "3.10.9"
  }
 },
 "nbformat": 4,
 "nbformat_minor": 5
}
